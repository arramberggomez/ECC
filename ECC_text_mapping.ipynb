{
 "cells": [
  {
   "cell_type": "code",
   "execution_count": 1,
   "metadata": {},
   "outputs": [],
   "source": [
    "# import necessary packages and helper function file\n",
    "import math\n",
    "import os\n",
    "import itertools\n",
    "import random\n",
    "from ecc import *"
   ]
  },
  {
   "cell_type": "code",
   "execution_count": 2,
   "metadata": {},
   "outputs": [
    {
     "name": "stdout",
     "output_type": "stream",
     "text": [
      "<bound method EllipticCurve_finite_field.cardinality of Elliptic Curve defined by y^2 = x^3 + 39402006196394479212279040100143613805079739270465446667948293404245721771496870329047266088258938001861606973112316*x + 27580193559959705877849011840389048093056905856361568521428707301988689241309860865136260764883745107765439761230575 over Finite Field of size 39402006196394479212279040100143613805079739270465446667948293404245721771496870329047266088258938001861606973112319>\n"
     ]
    }
   ],
   "source": [
    "\"\"\"\n",
    "==================================================\n",
    "    Define P-384 Curve\n",
    "    from https://neuromancer.sk/std/nist/P-384\n",
    "==================================================\n",
    "\"\"\"\n",
    "# big prime\n",
    "p = 0xfffffffffffffffffffffffffffffffffffffffffffffffffffffffffffffffeffffffff0000000000000000ffffffff\n",
    "\n",
    "# define field over which we will define elliptic curve\n",
    "K = GF(p)\n",
    "\n",
    "# coefficients of curve equation y^2 = x^3 + ax + b\n",
    "a = K(0xfffffffffffffffffffffffffffffffffffffffffffffffffffffffffffffffeffffffff0000000000000000fffffffc)\n",
    "b = K(0xb3312fa7e23ee7e4988e056be3f82d19181d9c6efe8141120314088f5013875ac656398d8a2ed19d2a85c8edd3ec2aef)\n",
    "\n",
    "# build curve\n",
    "E = EllipticCurve(K, (a, b))\n",
    "\n",
    "# define base points\n",
    "G = E(0xaa87ca22be8b05378eb1c71ef320ad746e1d3b628ba79b9859f741e082542a385502f25dbf55296c3a545e3872760ab7, 0x3617de4a96262c6f5d9e98bf9292dc29f8f41dbd289a147ce9da3113b5f0b8c00a60b1ce1d7e819d7a431d7c90ea0e5f)\n",
    "\n",
    "# set order of curve (do this since order is already known...)\n",
    "E.set_order(0xffffffffffffffffffffffffffffffffffffffffffffffffc7634d81f4372ddf581a0db248b0a77aecec196accc52973 * 0x1)\n",
    "\n",
    "print(E.order)"
   ]
  },
  {
   "cell_type": "code",
   "execution_count": 3,
   "metadata": {},
   "outputs": [],
   "source": [
    "\"\"\"\n",
    "==================================================\n",
    "    Define Scheme Parameters in this Block\n",
    "==================================================\n",
    "\"\"\"\n",
    "# TODO: check if d_s and d_r are the same\n",
    "# sender, recipient private keys\n",
    "d_s = random.randint(1, p)\n",
    "d_r = random.randint(1,p)\n",
    "\n",
    "# sender, recipient public keys\n",
    "PU_s = d_s * G\n",
    "PU_r = d_r * G\n",
    "\n",
    "# TODO: why are these equal????\n",
    "# shared session key\n",
    "# recipient can attack sender using shared session key\n",
    "# still hard, classic DLP\n",
    "k1 = PU_s * d_r\n",
    "k2 = PU_r * d_s\n",
    "\n",
    "\n",
    "IV = rand_bin(192)\n"
   ]
  },
  {
   "cell_type": "code",
   "execution_count": 4,
   "metadata": {},
   "outputs": [],
   "source": [
    "\"\"\"\n",
    "==================================================\n",
    "    Sage Helper Functions \n",
    "==================================================\n",
    "\"\"\"\n",
    "def block_to_curve(block, E):\n",
    "    \"\"\"\n",
    "    map individual block - an integer - to curve\n",
    "    \"\"\"\n",
    "    x_coord = Integer(block)\n",
    "    is_point = E.is_x_coord(x_coord)\n",
    "    \n",
    "    while(is_point == False):\n",
    "        x_coord += 1\n",
    "        is_point = E.is_x_coord(x_coord)\n",
    "        \n",
    "    foo = E.lift_x(x_coord)\n",
    "    \n",
    "    return foo\n",
    "\n",
    "\n",
    "def msg_to_curve(message, E):\n",
    "    \"\"\"\n",
    "    map entire message to curve using block_to_curve()\n",
    "    \"\"\"\n",
    "    msg_points = []\n",
    "    for block in message:\n",
    "        msg_points.append(block_to_curve(block, E))\n",
    "    return msg_points\n",
    "\n",
    "def encrypt_msg(message, ksh):\n",
    "    \"\"\"\n",
    "    encrypt message using shared session key (secret)\n",
    "    \"\"\"\n",
    "    encrypted_msg = message\n",
    "    for i in range(len(encrypted_msg)):\n",
    "        encrypted_msg[i] = encrypted_msg[i] + ksh\n",
    "    return encrypted_msg\n",
    "\n",
    "\n",
    "\n"
   ]
  },
  {
   "cell_type": "code",
   "execution_count": 5,
   "metadata": {},
   "outputs": [
    {
     "name": "stdout",
     "output_type": "stream",
     "text": [
      "I sat under the shade of the tree below Sweeney's Special after soloing Easy To Remember, and I just sat there in a daze thinking about the people in my life that I have lost. I just looked up at the steep, beautiful, colorful arête that shot straight up in the sky. It was like looking at a pathway to heaven. I was sitting in the great hall of Odin (a great legendary god). I felt the presence of late, great climbing partner Jimmy Forester and my late nephew who grew as a climber and person before being taken from us. Both of them fought the great battle of life. As I sat there, I could see holds to start appearing. I asked a good friend Matt King to help me put this route up. I wanted to put it up ground up, but it was so steep and nothing to hook. So I rapped in only to realize that after a short rappel I was out in space. So I heel hooked and basically downclimbed/ rappelled in to install each bolt. After ab crushing and bicep pumping work, we had all the bolts in except 1 at the start of the traverse. Matt tried to pull me in but no way. We had to climb Sweeney's Special, and I tensioned way out left to install the last bolt as to make sure it did not take away the Sweeney's Special adventure. 6 tries later each with a biceps and forearm pumping attempt we have Valhalla: where warriors who die as heroes and legends in battle dwell eternally. Thanks, Matt, for the work and support.\n",
      "\n",
      "\n"
     ]
    }
   ],
   "source": [
    "\"\"\"\n",
    "==================================================\n",
    "    Read, Store, & Print Secret Message\n",
    "==================================================\n",
    "\"\"\"\n",
    "file = open('secret_message.txt', 'r')\n",
    "secret_message = file.read()\n",
    "file.close()\n",
    "\n",
    "print(secret_message)\n",
    "\n",
    "\n",
    "\n"
   ]
  },
  {
   "cell_type": "code",
   "execution_count": 6,
   "metadata": {
    "scrolled": false
   },
   "outputs": [],
   "source": [
    "\"\"\"\n",
    "==================================================\n",
    "    Encode Secret Message\n",
    "==================================================\n",
    "\"\"\"\n",
    "encodedMsg = encode_message(secret_message, IV)"
   ]
  },
  {
   "cell_type": "code",
   "execution_count": 7,
   "metadata": {
    "scrolled": false
   },
   "outputs": [],
   "source": [
    "\"\"\"\n",
    "==================================================\n",
    "    Map Secret Message to Curve & Encrypt\n",
    "==================================================\n",
    "\"\"\"\n",
    "curve_msg = msg_to_curve(encodedMsg, E)\n",
    "\n",
    "encrypted = encrypt_msg(curve_msg, k1)\n",
    "\n",
    "writeable = list(encrypted)\n"
   ]
  },
  {
   "cell_type": "code",
   "execution_count": 8,
   "metadata": {},
   "outputs": [],
   "source": [
    "\"\"\"\n",
    "==================================================\n",
    "Write secret message to .txt file\n",
    "==================================================\n",
    "\"\"\"\n",
    "\n",
    "with open(\"encrypted_message.txt\", 'w') as f:\n",
    "    for point in writeable:\n",
    "        f.write(str(point) + '\\n')\n",
    "    f.close\n",
    "   \n"
   ]
  },
  {
   "cell_type": "code",
   "execution_count": null,
   "metadata": {},
   "outputs": [],
   "source": []
  },
  {
   "cell_type": "code",
   "execution_count": null,
   "metadata": {},
   "outputs": [],
   "source": []
  }
 ],
 "metadata": {
  "kernelspec": {
   "display_name": "SageMath 9.4",
   "language": "sage",
   "name": "sagemath-9.4"
  },
  "language_info": {
   "codemirror_mode": {
    "name": "ipython",
    "version": 3
   },
   "file_extension": ".py",
   "mimetype": "text/x-python",
   "name": "python",
   "nbconvert_exporter": "python",
   "pygments_lexer": "ipython3",
   "version": "3.9.5"
  }
 },
 "nbformat": 4,
 "nbformat_minor": 4
}
